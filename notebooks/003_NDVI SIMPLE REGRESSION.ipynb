{
 "cells": [
  {
   "cell_type": "code",
   "execution_count": 21,
   "id": "09cb5146-ab8d-475d-9b06-9ee81be95ba9",
   "metadata": {},
   "outputs": [],
   "source": [
    "import pandas as pd\n",
    "import numpy as np\n",
    "import matplotlib.pyplot as plt\n",
    "from sklearn.metrics import mean_squared_error\n",
    "from math import sqrt\n",
    "import scipy\n",
    "import seaborn as sns\n",
    "from datetime import datetime\n",
    "import matplotlib.pyplot as plt\n",
    "import matplotlib.dates as mdates\n",
    "from matplotlib.dates import DateFormatter\n",
    "import statsmodels.formula.api as sm\n",
    "import copy\n",
    "import matplotlib.lines as mlines\n",
    "import matplotlib.transforms as mtransforms\n",
    "import sklearn\n",
    "from math import sqrt\n",
    "from functools import reduce\n",
    "import numpy as np\n",
    "#import ee\n",
    "#import geemap\n",
    "import geopandas as gpd\n",
    "import rioxarray as rxr\n",
    "import rasterstats as rs\n",
    "from rasterio.plot import show\n",
    "import rasterio\n",
    "import cartopy.crs as ccrs\n",
    "import statsmodels\n",
    "\n",
    "%matplotlib inline\n",
    "plt.rcParams[\"font.family\"] = \"Arial\""
   ]
  },
  {
   "cell_type": "markdown",
   "id": "e0844a95-1eb7-4af3-905f-5f30b39efcd5",
   "metadata": {},
   "source": [
    "# IRRIGATED"
   ]
  },
  {
   "cell_type": "code",
   "execution_count": 22,
   "id": "2b277eeb-3196-4a2a-b039-2875da61d684",
   "metadata": {},
   "outputs": [
    {
     "name": "stdout",
     "output_type": "stream",
     "text": [
      "R^2 = 0.5497\n",
      "yield = 4.4402*NDVI + -5.794\n"
     ]
    },
    {
     "data": {
      "image/png": "[encoded data removed]",
      "text/plain": [
       "<Figure size 432x288 with 1 Axes>"
      ]
     },
     "metadata": {
      "needs_background": "light"
     },
     "output_type": "display_data"
    }
   ],
   "source": [
    "ndviFilePath='/Users/delatorredm/OneDrive - The University of Auckland/Ch4_Climate_Impacts/geospatial_layers/pts_seasonalCompositeNDVI_2001-2018_SUM_JAS.gpkg'\n",
    "startYr = 2012\n",
    "endYr = 2017\n",
    "\n",
    "\n",
    "ndvi = gpd.read_file(ndviFilePath)\n",
    "ndvi = ndvi.rename(columns=dict(zip(list(ndvi.columns[3:21]), list(np.arange(2001, 2019, 1)))))\n",
    "ndvi = ndvi.drop(columns=['id','geometry'])\n",
    "ndvi = ndvi.melt(id_vars=[\"Class\", \"ADM3_EN\"], var_name=\"Date\", value_name='ndvi')\n",
    "ndvi = ndvi[ndvi.Class=='Irrigated Rice']\n",
    "ndvi = ndvi.groupby(['ADM3_EN','Date']).mean().reset_index()\n",
    "\n",
    "ndvi\n",
    "\n",
    "actual = pd.read_csv('/Users/delatorredm/OneDrive - The University of Auckland/Ch4_Climate_Impacts/iloilo_rice_data_cleaned_imputed_new.csv')\n",
    "#actual = actual[(actual.param == 'yield') & (actual.ecosystem == 'rf')].reset_index(drop=True)\n",
    "#actual = actual[(actual.year == 2018)].groupby('muni').mean().reset_index(drop=False)\n",
    "#actual = actual.groupby('year').mean().reset_index()\n",
    "#sns.lineplot(x='year', y='value', data=actual)\n",
    "\n",
    "actual\n",
    "\n",
    "merged = actual.merge(ndvi, left_on=['year','muni'], right_on=['Date','ADM3_EN'])\n",
    "\n",
    "merged2=merged.groupby(['muni','ecosystem','value','ndvi']).mean().reset_index()\n",
    "merged2\n",
    "\n",
    "df=merged2[(merged2['ecosystem']=='irri')].reset_index(drop=True)\n",
    "df=df[(df['year']<=endYr) & (df['year']>=startYr)].reset_index(drop=True)\n",
    "df=df.groupby(['muni']).mean().reset_index()\n",
    "df\n",
    "\n",
    "np.random.seed(1)\n",
    "df['randnum']=np.random.randint(len(df), size=len(df)).astype(float)\n",
    "calibration=df[df['randnum']>=(len(df)*0.30)].reset_index(drop=True)\n",
    "validation=df[df['randnum']<=(len(df)*0.30)].reset_index(drop=True)\n",
    "\n",
    "sns.scatterplot(x='value', y='ndvi', data = calibration)\n",
    "\n",
    "results = sm.ols(formula = 'value ~ ndvi', \n",
    "                 missing='drop',\n",
    "                 data=calibration).fit()\n",
    "print('R^2 = ' + str(results.rsquared.round(decimals=4)))\n",
    "print('yield = ' + str(results.params[1].round(decimals=4)) + '*NDVI + ' + str(results.params[0].round(decimals=4)))\n",
    "plt.show()"
   ]
  },
  {
   "cell_type": "code",
   "execution_count": 27,
   "id": "f71c9dc2-1cc0-4637-b885-7409bcdba547",
   "metadata": {},
   "outputs": [
    {
     "name": "stderr",
     "output_type": "stream",
     "text": [
      "/Users/delatorredm/miniconda3/envs/ee/lib/python3.8/site-packages/scipy/stats/stats.py:1541: UserWarning: kurtosistest only valid for n>=20 ... continuing anyway, n=13\n",
      "  warnings.warn(\"kurtosistest only valid for n>=20 ... continuing \"\n"
     ]
    },
    {
     "data": {
      "text/html": [
       "<table class=\"simpletable\">\n",
       "<caption>OLS Regression Results</caption>\n",
       "<tr>\n",
       "  <th>Dep. Variable:</th>          <td>value</td>      <th>  R-squared:         </th> <td>   0.550</td>\n",
       "</tr>\n",
       "<tr>\n",
       "  <th>Model:</th>                   <td>OLS</td>       <th>  Adj. R-squared:    </th> <td>   0.509</td>\n",
       "</tr>\n",
       "<tr>\n",
       "  <th>Method:</th>             <td>Least Squares</td>  <th>  F-statistic:       </th> <td>   13.43</td>\n",
       "</tr>\n",
       "<tr>\n",
       "  <th>Date:</th>             <td>Fri, 17 Dec 2021</td> <th>  Prob (F-statistic):</th>  <td>0.00372</td>\n",
       "</tr>\n",
       "<tr>\n",
       "  <th>Time:</th>                 <td>23:12:17</td>     <th>  Log-Likelihood:    </th> <td>  1.9401</td>\n",
       "</tr>\n",
       "<tr>\n",
       "  <th>No. Observations:</th>      <td>    13</td>      <th>  AIC:               </th> <td>  0.1197</td>\n",
       "</tr>\n",
       "<tr>\n",
       "  <th>Df Residuals:</th>          <td>    11</td>      <th>  BIC:               </th> <td>   1.250</td>\n",
       "</tr>\n",
       "<tr>\n",
       "  <th>Df Model:</th>              <td>     1</td>      <th>                     </th>     <td> </td>   \n",
       "</tr>\n",
       "<tr>\n",
       "  <th>Covariance Type:</th>      <td>nonrobust</td>    <th>                     </th>     <td> </td>   \n",
       "</tr>\n",
       "</table>\n",
       "<table class=\"simpletable\">\n",
       "<tr>\n",
       "      <td></td>         <th>coef</th>     <th>std err</th>      <th>t</th>      <th>P>|t|</th>  <th>[0.025</th>    <th>0.975]</th>  \n",
       "</tr>\n",
       "<tr>\n",
       "  <th>Intercept</th> <td>   -5.7940</td> <td>    2.758</td> <td>   -2.101</td> <td> 0.060</td> <td>  -11.865</td> <td>    0.277</td>\n",
       "</tr>\n",
       "<tr>\n",
       "  <th>ndvi</th>      <td>    4.4402</td> <td>    1.212</td> <td>    3.665</td> <td> 0.004</td> <td>    1.773</td> <td>    7.107</td>\n",
       "</tr>\n",
       "</table>\n",
       "<table class=\"simpletable\">\n",
       "<tr>\n",
       "  <th>Omnibus:</th>       <td> 1.091</td> <th>  Durbin-Watson:     </th> <td>   2.095</td>\n",
       "</tr>\n",
       "<tr>\n",
       "  <th>Prob(Omnibus):</th> <td> 0.579</td> <th>  Jarque-Bera (JB):  </th> <td>   0.781</td>\n",
       "</tr>\n",
       "<tr>\n",
       "  <th>Skew:</th>          <td>-0.257</td> <th>  Prob(JB):          </th> <td>   0.677</td>\n",
       "</tr>\n",
       "<tr>\n",
       "  <th>Kurtosis:</th>      <td> 1.915</td> <th>  Cond. No.          </th> <td>    119.</td>\n",
       "</tr>\n",
       "</table><br/><br/>Notes:<br/>[1] Standard Errors assume that the covariance matrix of the errors is correctly specified."
      ],
      "text/plain": [
       "<class 'statsmodels.iolib.summary.Summary'>\n",
       "\"\"\"\n",
       "                            OLS Regression Results                            \n",
       "==============================================================================\n",
       "Dep. Variable:                  value   R-squared:                       0.550\n",
       "Model:                            OLS   Adj. R-squared:                  0.509\n",
       "Method:                 Least Squares   F-statistic:                     13.43\n",
       "Date:                Fri, 17 Dec 2021   Prob (F-statistic):            0.00372\n",
       "Time:                        23:12:17   Log-Likelihood:                 1.9401\n",
       "No. Observations:                  13   AIC:                            0.1197\n",
       "Df Residuals:                      11   BIC:                             1.250\n",
       "Df Model:                           1                                         \n",
       "Covariance Type:            nonrobust                                         \n",
       "==============================================================================\n",
       "                 coef    std err          t      P>|t|      [0.025      0.975]\n",
       "------------------------------------------------------------------------------\n",
       "Intercept     -5.7940      2.758     -2.101      0.060     -11.865       0.277\n",
       "ndvi           4.4402      1.212      3.665      0.004       1.773       7.107\n",
       "==============================================================================\n",
       "Omnibus:                        1.091   Durbin-Watson:                   2.095\n",
       "Prob(Omnibus):                  0.579   Jarque-Bera (JB):                0.781\n",
       "Skew:                          -0.257   Prob(JB):                        0.677\n",
       "Kurtosis:                       1.915   Cond. No.                         119.\n",
       "==============================================================================\n",
       "\n",
       "Notes:\n",
       "[1] Standard Errors assume that the covariance matrix of the errors is correctly specified.\n",
       "\"\"\""
      ]
     },
     "execution_count": 27,
     "metadata": {},
     "output_type": "execute_result"
    }
   ],
   "source": [
    "results.summary()"
   ]
  },
  {
   "cell_type": "code",
   "execution_count": 23,
   "id": "9e67a013-8743-4591-80ba-220ad7795e01",
   "metadata": {},
   "outputs": [],
   "source": [
    "calibration=df[df['randnum']>=(len(df)*0.30)].reset_index(drop=True)"
   ]
  },
  {
   "cell_type": "code",
   "execution_count": 24,
   "id": "6d817798-946a-4750-bd47-9f41a861d5c2",
   "metadata": {},
   "outputs": [
    {
     "data": {
      "text/html": [
       "<div>\n",
       "<style scoped>\n",
       "    .dataframe tbody tr th:only-of-type {\n",
       "        vertical-align: middle;\n",
       "    }\n",
       "\n",
       "    .dataframe tbody tr th {\n",
       "        vertical-align: top;\n",
       "    }\n",
       "\n",
       "    .dataframe thead th {\n",
       "        text-align: right;\n",
       "    }\n",
       "</style>\n",
       "<table border=\"1\" class=\"dataframe\">\n",
       "  <thead>\n",
       "    <tr style=\"text-align: right;\">\n",
       "      <th></th>\n",
       "      <th>muni</th>\n",
       "      <th>value</th>\n",
       "      <th>ndvi</th>\n",
       "      <th>year</th>\n",
       "      <th>Date</th>\n",
       "      <th>randnum</th>\n",
       "    </tr>\n",
       "  </thead>\n",
       "  <tbody>\n",
       "    <tr>\n",
       "      <th>0</th>\n",
       "      <td>Banate</td>\n",
       "      <td>4.105603</td>\n",
       "      <td>2.214025</td>\n",
       "      <td>2014.5</td>\n",
       "      <td>2014.5</td>\n",
       "      <td>11.0</td>\n",
       "    </tr>\n",
       "    <tr>\n",
       "      <th>1</th>\n",
       "      <td>Barotac Nuevo</td>\n",
       "      <td>4.260785</td>\n",
       "      <td>2.323344</td>\n",
       "      <td>2014.5</td>\n",
       "      <td>2014.5</td>\n",
       "      <td>12.0</td>\n",
       "    </tr>\n",
       "    <tr>\n",
       "      <th>2</th>\n",
       "      <td>Barotac Viejo</td>\n",
       "      <td>3.986644</td>\n",
       "      <td>2.184279</td>\n",
       "      <td>2014.5</td>\n",
       "      <td>2014.5</td>\n",
       "      <td>8.0</td>\n",
       "    </tr>\n",
       "    <tr>\n",
       "      <th>3</th>\n",
       "      <td>Dingle</td>\n",
       "      <td>4.529855</td>\n",
       "      <td>2.259961</td>\n",
       "      <td>2014.5</td>\n",
       "      <td>2014.5</td>\n",
       "      <td>9.0</td>\n",
       "    </tr>\n",
       "    <tr>\n",
       "      <th>4</th>\n",
       "      <td>Dumangas</td>\n",
       "      <td>4.271341</td>\n",
       "      <td>2.309406</td>\n",
       "      <td>2014.5</td>\n",
       "      <td>2014.5</td>\n",
       "      <td>11.0</td>\n",
       "    </tr>\n",
       "    <tr>\n",
       "      <th>5</th>\n",
       "      <td>Janiuay</td>\n",
       "      <td>4.046125</td>\n",
       "      <td>2.278850</td>\n",
       "      <td>2014.5</td>\n",
       "      <td>2014.5</td>\n",
       "      <td>15.0</td>\n",
       "    </tr>\n",
       "    <tr>\n",
       "      <th>6</th>\n",
       "      <td>Mina</td>\n",
       "      <td>4.631615</td>\n",
       "      <td>2.348275</td>\n",
       "      <td>2014.5</td>\n",
       "      <td>2014.5</td>\n",
       "      <td>16.0</td>\n",
       "    </tr>\n",
       "    <tr>\n",
       "      <th>7</th>\n",
       "      <td>Oton</td>\n",
       "      <td>4.187363</td>\n",
       "      <td>2.244891</td>\n",
       "      <td>2014.5</td>\n",
       "      <td>2014.5</td>\n",
       "      <td>12.0</td>\n",
       "    </tr>\n",
       "    <tr>\n",
       "      <th>8</th>\n",
       "      <td>Pavia</td>\n",
       "      <td>4.838432</td>\n",
       "      <td>2.342727</td>\n",
       "      <td>2014.5</td>\n",
       "      <td>2014.5</td>\n",
       "      <td>7.0</td>\n",
       "    </tr>\n",
       "    <tr>\n",
       "      <th>9</th>\n",
       "      <td>Pototan</td>\n",
       "      <td>4.759571</td>\n",
       "      <td>2.347527</td>\n",
       "      <td>2014.5</td>\n",
       "      <td>2014.5</td>\n",
       "      <td>13.0</td>\n",
       "    </tr>\n",
       "    <tr>\n",
       "      <th>10</th>\n",
       "      <td>San Miguel</td>\n",
       "      <td>4.174817</td>\n",
       "      <td>2.247867</td>\n",
       "      <td>2014.5</td>\n",
       "      <td>2014.5</td>\n",
       "      <td>6.0</td>\n",
       "    </tr>\n",
       "    <tr>\n",
       "      <th>11</th>\n",
       "      <td>Tigbauan</td>\n",
       "      <td>4.517831</td>\n",
       "      <td>2.256762</td>\n",
       "      <td>2014.5</td>\n",
       "      <td>2014.5</td>\n",
       "      <td>11.0</td>\n",
       "    </tr>\n",
       "    <tr>\n",
       "      <th>12</th>\n",
       "      <td>Zarraga</td>\n",
       "      <td>3.740139</td>\n",
       "      <td>2.229361</td>\n",
       "      <td>2014.5</td>\n",
       "      <td>2014.5</td>\n",
       "      <td>10.0</td>\n",
       "    </tr>\n",
       "  </tbody>\n",
       "</table>\n",
       "</div>"
      ],
      "text/plain": [
       "             muni     value      ndvi    year    Date  randnum\n",
       "0          Banate  4.105603  2.214025  2014.5  2014.5     11.0\n",
       "1   Barotac Nuevo  4.260785  2.323344  2014.5  2014.5     12.0\n",
       "2   Barotac Viejo  3.986644  2.184279  2014.5  2014.5      8.0\n",
       "3          Dingle  4.529855  2.259961  2014.5  2014.5      9.0\n",
       "4        Dumangas  4.271341  2.309406  2014.5  2014.5     11.0\n",
       "5         Janiuay  4.046125  2.278850  2014.5  2014.5     15.0\n",
       "6            Mina  4.631615  2.348275  2014.5  2014.5     16.0\n",
       "7            Oton  4.187363  2.244891  2014.5  2014.5     12.0\n",
       "8           Pavia  4.838432  2.342727  2014.5  2014.5      7.0\n",
       "9         Pototan  4.759571  2.347527  2014.5  2014.5     13.0\n",
       "10     San Miguel  4.174817  2.247867  2014.5  2014.5      6.0\n",
       "11       Tigbauan  4.517831  2.256762  2014.5  2014.5     11.0\n",
       "12        Zarraga  3.740139  2.229361  2014.5  2014.5     10.0"
      ]
     },
     "execution_count": 24,
     "metadata": {},
     "output_type": "execute_result"
    }
   ],
   "source": [
    "calibration"
   ]
  },
  {
   "cell_type": "code",
   "execution_count": 25,
   "id": "de5d5c73-dae7-4fa6-a1c9-66be2b8c5eb7",
   "metadata": {},
   "outputs": [
    {
     "name": "stdout",
     "output_type": "stream",
     "text": [
      "R^2 = 0.9698\n",
      "yield = 2.6003*NDVI + -1.539\n"
     ]
    },
    {
     "data": {
      "text/plain": [
       "2.0540108496338405"
      ]
     },
     "execution_count": 25,
     "metadata": {},
     "output_type": "execute_result"
    }
   ],
   "source": [
    "results_validation = sm.ols(formula = 'value ~ ndvi', \n",
    "                 missing='drop',\n",
    "                 data=validation).fit()\n",
    "print('R^2 = ' + str(results_validation.rsquared.round(decimals=4)))\n",
    "print('yield = ' + str(results_validation.params[1].round(decimals=4)) + '*NDVI + ' + str(results_validation.params[0].round(decimals=4)))\n",
    "\n",
    "\n",
    "statsmodels.tools.eval_measures.rmse(calibration.value, calibration.ndvi)"
   ]
  },
  {
   "cell_type": "markdown",
   "id": "9629af61-c6db-4ef6-a2c6-1c69894213d4",
   "metadata": {},
   "source": [
    "# RAINFED"
   ]
  },
  {
   "cell_type": "code",
   "execution_count": 54,
   "id": "c6884ffb-c595-453e-ba96-8aba3786bda2",
   "metadata": {},
   "outputs": [
    {
     "name": "stdout",
     "output_type": "stream",
     "text": [
      "R^2 = 0.0023\n",
      "yield = -0.0949*NDVI + 3.6402\n"
     ]
    },
    {
     "name": "stderr",
     "output_type": "stream",
     "text": [
      "/var/folders/ry/km0p9rw12zq4h59s7r28sm440000gn/T/ipykernel_44610/2368169946.py:13: SettingWithCopyWarning: \n",
      "A value is trying to be set on a copy of a slice from a DataFrame\n",
      "\n",
      "See the caveats in the documentation: https://pandas.pydata.org/pandas-docs/stable/user_guide/indexing.html#returning-a-view-versus-a-copy\n",
      "  ndvi.ADM3_EN[ndvi.ADM3_EN=='Dueñas']='Duenas'\n",
      "/var/folders/ry/km0p9rw12zq4h59s7r28sm440000gn/T/ipykernel_44610/2368169946.py:14: SettingWithCopyWarning: \n",
      "A value is trying to be set on a copy of a slice from a DataFrame\n",
      "\n",
      "See the caveats in the documentation: https://pandas.pydata.org/pandas-docs/stable/user_guide/indexing.html#returning-a-view-versus-a-copy\n",
      "  ndvi.ADM3_EN[ndvi.ADM3_EN=='City of Passi']='Passi City'\n"
     ]
    },
    {
     "data": {
      "image/png": "[encoded data removed]",
      "text/plain": [
       "<Figure size 432x288 with 1 Axes>"
      ]
     },
     "metadata": {
      "needs_background": "light"
     },
     "output_type": "display_data"
    }
   ],
   "source": [
    "ndviFilePath='/Users/delatorredm/OneDrive - The University of Auckland/Ch4_Climate_Impacts/geospatial_layers/pts_seasonalCompositeNDVI_2001-2018_SUM_JFM.gpkg'\n",
    "startYr = 2012\n",
    "endYr = 2017\n",
    "\n",
    "\n",
    "ndvi = gpd.read_file(ndviFilePath)\n",
    "ndvi = ndvi.rename(columns=dict(zip(list(ndvi.columns[3:21]), list(np.arange(2001, 2019, 1)))))\n",
    "ndvi = ndvi.drop(columns=['id','geometry'])\n",
    "ndvi = ndvi.melt(id_vars=[\"Class\", \"ADM3_EN\"], var_name=\"Date\", value_name='ndvi')\n",
    "ndvi = ndvi[ndvi.Class=='Rain-fed Rice']\n",
    "ndvi = ndvi.groupby(['ADM3_EN','Date']).mean().reset_index()\n",
    "\n",
    "ndvi.ADM3_EN[ndvi.ADM3_EN=='Dueñas']='Duenas'\n",
    "ndvi.ADM3_EN[ndvi.ADM3_EN=='City of Passi']='Passi City'\n",
    "\n",
    "ndvi\n",
    "\n",
    "\n",
    "\n",
    "actual = pd.read_csv('/Users/delatorredm/OneDrive - The University of Auckland/Ch4_Climate_Impacts/iloilo_rice_data_cleaned_imputed_new.csv')\n",
    "#actual = actual[(actual.param == 'yield') & (actual.ecosystem == 'rf')].reset_index(drop=True)\n",
    "#actual = actual[(actual.year == 2018)].groupby('muni').mean().reset_index(drop=False)\n",
    "#actual = actual.groupby('year').mean().reset_index()\n",
    "#sns.lineplot(x='year', y='value', data=actual)\n",
    "\n",
    "actual\n",
    "\n",
    "merged = actual.merge(ndvi, left_on=['year','muni'], right_on=['Date','ADM3_EN'])\n",
    "\n",
    "merged2=merged.groupby(['muni','ecosystem','value','ndvi']).mean().reset_index()\n",
    "merged2\n",
    "\n",
    "df=merged2[(merged2['ecosystem']=='rf')].reset_index(drop=True)\n",
    "df=df[(df['year']<=endYr) & (df['year']>=startYr)].reset_index(drop=True)\n",
    "df=df.groupby(['muni']).mean().reset_index()\n",
    "df\n",
    "\n",
    "df = df.loc[df['muni'].isin([\n",
    "'Carles',\n",
    "'Calinog',\n",
    "'Estancia',\n",
    "'Lambunao',\n",
    "'Cabatuan',\n",
    "'Duenas',\n",
    "'Santa Barbara',\n",
    "'Bingawan',\n",
    "'Maasin',\n",
    "'Badiangan'\n",
    "])]\n",
    "\n",
    "np.random.seed(1)\n",
    "df['randnum']=np.random.randint(len(df), size=len(df)).astype(float)\n",
    "calibration=df[df['randnum']>=(len(df)*0.30)].reset_index(drop=True)\n",
    "validation=df[df['randnum']<=(len(df)*0.30)].reset_index(drop=True)\n",
    "\n",
    "sns.scatterplot(x='value', y='ndvi', data = calibration)\n",
    "\n",
    "results = sm.ols(formula = 'value ~ ndvi', \n",
    "                 missing='drop',\n",
    "                 data=calibration).fit()\n",
    "print('R^2 = ' + str(results.rsquared.round(decimals=4)))\n",
    "print('yield = ' + str(results.params[1].round(decimals=4)) + '*NDVI + ' + str(results.params[0].round(decimals=4)))\n",
    "plt.show()"
   ]
  },
  {
   "cell_type": "code",
   "execution_count": 55,
   "id": "b2ac2606-b39a-456b-937e-19990c7804ce",
   "metadata": {},
   "outputs": [
    {
     "name": "stdout",
     "output_type": "stream",
     "text": [
      "R^2 = 0.7049\n",
      "yield = 3.5785*NDVI + -4.3311\n"
     ]
    }
   ],
   "source": [
    "results_validation = sm.ols(formula = 'value ~ ndvi', \n",
    "                 missing='drop',\n",
    "                 data=validation).fit()\n",
    "print('R^2 = ' + str(results_validation.rsquared.round(decimals=4)))\n",
    "print('yield = ' + str(results_validation.params[1].round(decimals=4)) + '*NDVI + ' + str(results_validation.params[0].round(decimals=4)))"
   ]
  },
  {
   "cell_type": "code",
   "execution_count": null,
   "id": "e7f6ad6c-95a3-4e34-a3af-bd6b9e588455",
   "metadata": {},
   "outputs": [],
   "source": []
  }
 ],
 "metadata": {
  "kernelspec": {
   "display_name": "Python 3 (ipykernel)",
   "language": "python",
   "name": "python3"
  },
  "language_info": {
   "codemirror_mode": {
    "name": "ipython",
    "version": 3
   },
   "file_extension": ".py",
   "mimetype": "text/x-python",
   "name": "python",
   "nbconvert_exporter": "python",
   "pygments_lexer": "ipython3",
   "version": "3.8.12"
  }
 },
 "nbformat": 4,
 "nbformat_minor": 5
}
