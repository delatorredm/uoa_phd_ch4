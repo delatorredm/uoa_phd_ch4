{
 "cells": [
  {
   "cell_type": "markdown",
   "id": "e1dca5e8-b578-4c9f-9c45-ee8006b50bfc",
   "metadata": {},
   "source": [
    "# YIELD MODEL INVERSION"
   ]
  },
  {
   "cell_type": "code",
   "execution_count": 13,
   "id": "c1aa958e-4a31-45a4-8cdb-a1fa2a1dcf41",
   "metadata": {},
   "outputs": [],
   "source": [
    "import pandas as pd\n",
    "import numpy as np\n",
    "import matplotlib.pyplot as plt\n",
    "#from sklearn.metrics import mean_squared_error\n",
    "from math import sqrt\n",
    "import scipy\n",
    "import seaborn as sns\n",
    "from datetime import datetime\n",
    "import matplotlib.pyplot as plt\n",
    "import matplotlib.dates as mdates\n",
    "from matplotlib.dates import DateFormatter\n",
    "import statsmodels.formula.api as sm\n",
    "import copy\n",
    "import matplotlib.lines as mlines\n",
    "import matplotlib.transforms as mtransforms\n",
    "import sklearn\n",
    "from math import sqrt\n",
    "from functools import reduce\n",
    "import numpy as np\n",
    "import ee\n",
    "import geemap\n",
    "import geopandas as gpd\n",
    "import rioxarray as rxr\n",
    "import rasterstats as rs\n",
    "from rasterio.plot import show\n",
    "import rasterio\n",
    "\n",
    "%matplotlib inline"
   ]
  },
  {
   "cell_type": "code",
   "execution_count": 9,
   "id": "2ca2ec49-bf55-496f-b1fb-983ac14fb9e7",
   "metadata": {},
   "outputs": [],
   "source": [
    "ndvi = rxr.open_rasterio('/Users/delatorredm/OneDrive - The University of Auckland/Ch4_Climate_Impacts/geospatial_layers/parameters/ndviTS_17year.tif')\n",
    "evi = rxr.open_rasterio('/Users/delatorredm/OneDrive - The University of Auckland/Ch4_Climate_Impacts/geospatial_layers/parameters/eviTS_17year.tif')\n",
    "pcp = rxr.open_rasterio('/Users/delatorredm/OneDrive - The University of Auckland/Ch4_Climate_Impacts/geospatial_layers/parameters/pcpTS.tif')\n",
    "lstday = rxr.open_rasterio('/Users/delatorredm/OneDrive - The University of Auckland/Ch4_Climate_Impacts/geospatial_layers/parameters/LST_Day_1kmTS.tif')\n",
    "lstnight = rxr.open_rasterio('/Users/delatorredm/OneDrive - The University of Auckland/Ch4_Climate_Impacts/geospatial_layers/parameters/LST_Night_1kmTS.tif')\n",
    "et = rxr.open_rasterio('/Users/delatorredm/OneDrive - The University of Auckland/Ch4_Climate_Impacts/geospatial_layers/parameters/etTS.tif')\n",
    "pet = rxr.open_rasterio('/Users/delatorredm/OneDrive - The University of Auckland/Ch4_Climate_Impacts/geospatial_layers/parameters/petTS.tif')\n",
    "slp = rxr.open_rasterio('/Users/delatorredm/OneDrive - The University of Auckland/Ch4_Climate_Impacts/geospatial_layers/parameters/ch3_slope.tif')\n",
    "ele = rxr.open_rasterio('/Users/delatorredm/OneDrive - The University of Auckland/Ch4_Climate_Impacts/geospatial_layers/parameters/ch3_elevation.tif')\n"
   ]
  },
  {
   "cell_type": "markdown",
   "id": "af1da179-218e-4018-b518-ea4c250fdb71",
   "metadata": {},
   "source": [
    "# rAINFED"
   ]
  },
  {
   "cell_type": "code",
   "execution_count": 21,
   "id": "bc051d85-853e-4eb9-b40a-250bfa6f3c2f",
   "metadata": {},
   "outputs": [
    {
     "name": "stdout",
     "output_type": "stream",
     "text": [
      "RMSE = 2.3483678709546285 MAE = 2.1276330247291697 MAPE = 0.6776927721891804\n"
     ]
    },
    {
     "data": {
      "image/png": "[encoded data removed]",
      "text/plain": [
       "<Figure size 432x288 with 1 Axes>"
      ]
     },
     "metadata": {
      "needs_background": "light"
     },
     "output_type": "display_data"
    }
   ],
   "source": [
    "# FORMULA\n",
    "#yieldFinal = -46.6422 + 15.4367*evi + 0.0194*pcp + 1.8418*lstnight -0.1254*et + 0.0329*pet + 0.0068*ele\n",
    "yieldFinal = -74.446220 + 23.546708*evi + 0.028446*pcp + 0.356150*lstday +  2.352753*lstnight -0.149883*et + 0.044270*pet + 0.009653*ele\n",
    "\n",
    "\n",
    "#yieldFinal = yieldFinal.rio.reproject(\"EPSG:32651\")\n",
    "#yieldFinal.rio.crs\n",
    "\n",
    "gdf = gpd.read_file('/Users/delatorredm/OneDrive - The University of Auckland/Ch4_Climate_Impacts/geospatial_layers/intersect_DS_points.gpkg')\n",
    "\n",
    "#fig, ax = plt.subplots(figsize=(12,12))\n",
    "#gdf.plot(ax=ax, color = 'orangered')\n",
    "#yieldFinal.plot(ax=ax)\n",
    "\n",
    "rstats = rs.zonal_stats('/Users/delatorredm/OneDrive - The University of Auckland/Ch4_Climate_Impacts/geospatial_layers/intersect_DS_points.gpkg', \"yieldFinal.tif\", stats='mean',geojson_out=True)\n",
    "rstats = gpd.GeoDataFrame.from_features(rstats)\n",
    "\n",
    "grouped = rstats.groupby(['Class','ADM3_EN']).mean().reset_index()\n",
    "\n",
    "dataOfficial = pd.read_csv('/Users/delatorredm/OneDrive - The University of Auckland/Ch4_Climate_Impacts/iloilo_rice_data_cleaned_imputed_2017.csv')\n",
    "\n",
    "\n",
    "rfGRP = grouped.loc[grouped['Class']=='Rain-fed Rice']\n",
    "rfDO = dataOfficial.loc[dataOfficial['ecosystem']=='rf']\n",
    "merged = pd.merge(rfDO, rfGRP, left_on='muni', right_on='ADM3_EN')\n",
    "\n",
    "from sklearn.metrics import mean_squared_error\n",
    "\n",
    "rmse = sklearn.metrics.mean_squared_error(merged['value'], merged['mean'], squared=False)\n",
    "mae = sklearn.metrics.mean_absolute_error(merged['value'], merged['mean'])\n",
    "mape = sklearn.metrics.mean_absolute_percentage_error(merged['value'], merged['mean'])\n",
    "\n",
    "\n",
    "print('RMSE =', rmse, 'MAE =', mae, 'MAPE =', mape)\n",
    "plt.scatter(merged['value'], merged['mean'])\n",
    "plt.show()"
   ]
  },
  {
   "cell_type": "code",
   "execution_count": 24,
   "id": "fedb963a-644b-41cc-a2b5-26c4f9b2a574",
   "metadata": {},
   "outputs": [
    {
     "data": {
      "text/plain": [
       "<matplotlib.collections.QuadMesh at 0x7f807ac94ac0>"
      ]
     },
     "execution_count": 24,
     "metadata": {},
     "output_type": "execute_result"
    },
    {
     "data": {
      "image/png": "[encoded data removed]",
      "text/plain": [
       "<Figure size 432x288 with 2 Axes>"
      ]
     },
     "metadata": {
      "needs_background": "light"
     },
     "output_type": "display_data"
    }
   ],
   "source": [
    "#yieldFinal.plot()\n",
    "rfMask = rxr.open_rasterio('/Users/delatorredm/OneDrive - The University of Auckland/Ch4_Climate_Impacts/geospatial_layers/final_DS_RF.tif')\n",
    "rfMask.plot()"
   ]
  },
  {
   "cell_type": "markdown",
   "id": "9b55b4d2-3026-433b-8162-77b598bbed2a",
   "metadata": {},
   "source": [
    "# IRRIGATED"
   ]
  },
  {
   "cell_type": "code",
   "execution_count": 12,
   "id": "44614bc4-7526-4f42-b43c-6b57ff76e880",
   "metadata": {},
   "outputs": [
    {
     "ename": "AttributeError",
     "evalue": "'DataArray' object has no attribute 'imshow'",
     "output_type": "error",
     "traceback": [
      "\u001b[0;31m---------------------------------------------------------------------------\u001b[0m",
      "\u001b[0;31mAttributeError\u001b[0m                            Traceback (most recent call last)",
      "\u001b[0;32m<ipython-input-12-1afb01c738ed>\u001b[0m in \u001b[0;36m<module>\u001b[0;34m\u001b[0m\n\u001b[0;32m----> 1\u001b[0;31m \u001b[0myieldFinal\u001b[0m\u001b[0;34m.\u001b[0m\u001b[0mimshow\u001b[0m\u001b[0;34m(\u001b[0m\u001b[0;34m)\u001b[0m\u001b[0;34m\u001b[0m\u001b[0;34m\u001b[0m\u001b[0m\n\u001b[0m",
      "\u001b[0;32m~/miniconda3/envs/ee/lib/python3.8/site-packages/xarray/core/common.py\u001b[0m in \u001b[0;36m__getattr__\u001b[0;34m(self, name)\u001b[0m\n\u001b[1;32m    237\u001b[0m                 \u001b[0;32mwith\u001b[0m \u001b[0msuppress\u001b[0m\u001b[0;34m(\u001b[0m\u001b[0mKeyError\u001b[0m\u001b[0;34m)\u001b[0m\u001b[0;34m:\u001b[0m\u001b[0;34m\u001b[0m\u001b[0;34m\u001b[0m\u001b[0m\n\u001b[1;32m    238\u001b[0m                     \u001b[0;32mreturn\u001b[0m \u001b[0msource\u001b[0m\u001b[0;34m[\u001b[0m\u001b[0mname\u001b[0m\u001b[0;34m]\u001b[0m\u001b[0;34m\u001b[0m\u001b[0;34m\u001b[0m\u001b[0m\n\u001b[0;32m--> 239\u001b[0;31m         raise AttributeError(\n\u001b[0m\u001b[1;32m    240\u001b[0m             \u001b[0;34m\"{!r} object has no attribute {!r}\"\u001b[0m\u001b[0;34m.\u001b[0m\u001b[0mformat\u001b[0m\u001b[0;34m(\u001b[0m\u001b[0mtype\u001b[0m\u001b[0;34m(\u001b[0m\u001b[0mself\u001b[0m\u001b[0;34m)\u001b[0m\u001b[0;34m.\u001b[0m\u001b[0m__name__\u001b[0m\u001b[0;34m,\u001b[0m \u001b[0mname\u001b[0m\u001b[0;34m)\u001b[0m\u001b[0;34m\u001b[0m\u001b[0;34m\u001b[0m\u001b[0m\n\u001b[1;32m    241\u001b[0m         )\n",
      "\u001b[0;31mAttributeError\u001b[0m: 'DataArray' object has no attribute 'imshow'"
     ]
    }
   ],
   "source": [
    "# FORMULA\n",
    "#yieldFinal = -46.6422 + 15.4367*evi + 0.0194*pcp + 1.8418*lstnight -0.1254*et + 0.0329*pet + 0.0068*ele\n",
    "yieldFinal = -74.446220 + 23.546708*evi + 0.028446*pcp + 0.356150*lstday +  2.352753*lstnight -0.149883*et + 0.044270*pet + 0.009653*ele\n",
    "yieldFinal.plot()\n",
    "\n",
    "\n",
    "yieldFinal = yieldFinal.rio.reproject(\"EPSG:32651\")\n",
    "yieldFinal.rio.crs\n",
    "\n",
    "gdf = gpd.read_file('/Users/delatorredm/OneDrive - The University of Auckland/Ch4_Climate_Impacts/geospatial_layers/intersect_DS_points.gpkg')\n",
    "\n",
    "#fig, ax = plt.subplots(figsize=(12,12))\n",
    "#gdf.plot(ax=ax, color = 'orangered')\n",
    "#yieldFinal.plot(ax=ax)\n",
    "\n",
    "rstats = rs.zonal_stats('/Users/delatorredm/OneDrive - The University of Auckland/Ch4_Climate_Impacts/geospatial_layers/intersect_DS_points.gpkg', \"yieldFinal.tif\", stats='mean',geojson_out=True)\n",
    "rstats = gpd.GeoDataFrame.from_features(rstats)\n",
    "\n",
    "grouped = rstats.groupby(['Class','ADM3_EN']).mean().reset_index()\n",
    "\n",
    "dataOfficial = pd.read_csv('/Users/delatorredm/OneDrive - The University of Auckland/Ch4_Climate_Impacts/iloilo_rice_data_cleaned_imputed_2017.csv')\n",
    "\n",
    "\n",
    "rfGRP = grouped.loc[grouped['Class']=='Irrigated Rice']\n",
    "rfDO = dataOfficial.loc[dataOfficial['ecosystem']=='irri']\n",
    "merged = pd.merge(rfDO, rfGRP, left_on='muni', right_on='ADM3_EN')\n",
    "\n",
    "from sklearn.metrics import mean_squared_error\n",
    "\n",
    "rmse = sklearn.metrics.mean_squared_error(merged['value'], merged['mean'], squared=False)\n",
    "mae = sklearn.metrics.mean_absolute_error(merged['value'], merged['mean'])\n",
    "mape = sklearn.metrics.mean_absolute_percentage_error(merged['value'], merged['mean'])\n",
    "\n",
    "\n",
    "print('RMSE =', rmse, 'MAE =', mae, 'MAPE =', mape)\n",
    "plt.scatter(merged['value'], merged['mean'])\n",
    "plt.show()"
   ]
  },
  {
   "cell_type": "code",
   "execution_count": null,
   "id": "80fa9bf4-8d80-46b0-9e5c-7f3f66943206",
   "metadata": {},
   "outputs": [],
   "source": []
  }
 ],
 "metadata": {
  "kernelspec": {
   "display_name": "Python 3 (ipykernel)",
   "language": "python",
   "name": "python3"
  },
  "language_info": {
   "codemirror_mode": {
    "name": "ipython",
    "version": 3
   },
   "file_extension": ".py",
   "mimetype": "text/x-python",
   "name": "python",
   "nbconvert_exporter": "python",
   "pygments_lexer": "ipython3",
   "version": "3.8.12"
  }
 },
 "nbformat": 4,
 "nbformat_minor": 5
}
