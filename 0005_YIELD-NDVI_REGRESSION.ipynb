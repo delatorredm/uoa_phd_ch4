{
 "cells": [
  {
   "cell_type": "code",
   "execution_count": 27,
   "id": "6475754f-eade-4557-b35b-72a1e821aabb",
   "metadata": {},
   "outputs": [],
   "source": [
    "import pandas as pd\n",
    "import numpy as np\n",
    "import matplotlib.pyplot as plt\n",
    "from sklearn.metrics import mean_squared_error\n",
    "from math import sqrt\n",
    "import scipy\n",
    "import seaborn as sns\n",
    "from datetime import datetime\n",
    "import matplotlib.pyplot as plt\n",
    "import matplotlib.dates as mdates\n",
    "from matplotlib.dates import DateFormatter\n",
    "#import statsmodels.formula.api as smf\n",
    "import copy\n",
    "import matplotlib.lines as mlines\n",
    "import matplotlib.transforms as mtransforms\n",
    "from sklearn.ensemble import RandomForestRegressor\n",
    "from math import sqrt\n",
    "from functools import reduce\n",
    "import numpy as np\n",
    "#import ee\n",
    "#import geemap\n",
    "import geopandas as gpd\n",
    "import rioxarray as rxr\n",
    "import rasterstats as rs\n",
    "from rasterio.plot import show\n",
    "import rasterio\n",
    "import cartopy.crs as ccrs\n",
    "import gdal\n",
    "import statsmodels.formula.api as smf\n",
    "import math\n",
    "\n",
    "%matplotlib inline\n",
    "plt.rcParams[\"font.family\"] = \"Arial\""
   ]
  },
  {
   "cell_type": "code",
   "execution_count": 28,
   "id": "66fcb589-5bc4-4862-9976-225be639c888",
   "metadata": {},
   "outputs": [],
   "source": [
    "ndvi_irri = pd.read_csv('/Users/delatorredm/OneDrive - The University of Auckland/Ch4_Climate_Impacts/ndvi_irrigated.csv')[['ADM3_EN','yr1','yr5']]\n",
    "ndvi_rf =pd.read_csv('/Users/delatorredm/OneDrive - The University of Auckland/Ch4_Climate_Impacts/ndvi_rainfed.csv')[['ADM3_EN','yr1','yr5']]\n",
    "ndvi_all = pd.read_csv('/Users/delatorredm/OneDrive - The University of Auckland/Ch4_Climate_Impacts/ndvi_all.csv')[['ADM3_EN','yr1','yr5']]\n"
   ]
  },
  {
   "cell_type": "markdown",
   "id": "247ee73a-cbf1-4be0-b10b-91a6ce993f6a",
   "metadata": {},
   "source": [
    "# 5 YEAR INCREMENTS\n",
    "## Irrigated Rice\n"
   ]
  },
  {
   "cell_type": "code",
   "execution_count": 30,
   "id": "2a0be4f6-4653-4329-8ef6-cfba9bd3c530",
   "metadata": {},
   "outputs": [
    {
     "name": "stdout",
     "output_type": "stream",
     "text": [
      "                            OLS Regression Results                            \n",
      "==============================================================================\n",
      "Dep. Variable:            actualYield   R-squared:                       0.267\n",
      "Model:                            OLS   Adj. R-squared:                  0.221\n",
      "Method:                 Least Squares   F-statistic:                     5.818\n",
      "Date:                Sat, 12 Mar 2022   Prob (F-statistic):             0.0282\n",
      "Time:                        17:29:21   Log-Likelihood:                -1.4062\n",
      "No. Observations:                  18   AIC:                             6.812\n",
      "Df Residuals:                      16   BIC:                             8.593\n",
      "Df Model:                           1                                         \n",
      "Covariance Type:            nonrobust                                         \n",
      "==============================================================================\n",
      "                 coef    std err          t      P>|t|      [0.025      0.975]\n",
      "------------------------------------------------------------------------------\n",
      "Intercept     -0.5809      2.060     -0.282      0.782      -4.947       3.786\n",
      "yr5            3.1240      1.295      2.412      0.028       0.378       5.870\n",
      "==============================================================================\n",
      "Omnibus:                        0.882   Durbin-Watson:                   1.890\n",
      "Prob(Omnibus):                  0.644   Jarque-Bera (JB):                0.809\n",
      "Skew:                          -0.435   Prob(JB):                        0.667\n",
      "Kurtosis:                       2.434   Cond. No.                         69.9\n",
      "==============================================================================\n",
      "\n",
      "Notes:\n",
      "[1] Standard Errors assume that the covariance matrix of the errors is correctly specified.\n"
     ]
    },
    {
     "name": "stderr",
     "output_type": "stream",
     "text": [
      "/Users/delatorredm/miniconda3/envs/ee/lib/python3.8/site-packages/scipy/stats/stats.py:1541: UserWarning: kurtosistest only valid for n>=20 ... continuing anyway, n=18\n",
      "  warnings.warn(\"kurtosistest only valid for n>=20 ... continuing \"\n"
     ]
    }
   ],
   "source": [
    "startYear = 2013\n",
    "#startYear = 2017\n",
    "\n",
    "endYear = 2017\n",
    "actual = pd.read_csv('/Users/delatorredm/OneDrive - The University of Auckland/Ch4_Climate_Impacts/iloilo_rice_data_cleaned_imputed_new.csv')\n",
    "actual = actual[(actual.param == 'yield') & (actual.ecosystem == 'irri')].reset_index(drop=True)\n",
    "actualFixed = actual.rename(columns={'muni':'ADM3_EN','year':'Date'}).drop(columns=['ecosystem'])\n",
    "actualFixed= actualFixed[(actualFixed.Date <= endYear) & (actualFixed.Date >= startYear)].groupby(['ADM3_EN','param']).mean().reset_index(drop=False)\n",
    "\n",
    "merged = pd.merge(actualFixed, ndvi_irri, left_on='ADM3_EN', right_on='ADM3_EN')\n",
    "\n",
    "\n",
    "df = merged.rename(columns={'value':'actualYield'})\n",
    "df = pd.DataFrame(df)\n",
    "\n",
    "formula = 'actualYield ~ yr5'\n",
    "results = smf.ols(formula = formula, \n",
    "                 missing='drop',\n",
    "                 data=df).fit()\n",
    "print(results.summary())\n",
    "#print(pd.DataFrame(results.params).round(decimals=4).transpose())"
   ]
  },
  {
   "cell_type": "markdown",
   "id": "260c938c-90fe-4f06-befe-888ba9633ce0",
   "metadata": {},
   "source": [
    "## Rain-fed rice"
   ]
  },
  {
   "cell_type": "code",
   "execution_count": 31,
   "id": "952d8c4c-c764-45cc-9863-410e866d2d56",
   "metadata": {},
   "outputs": [
    {
     "name": "stdout",
     "output_type": "stream",
     "text": [
      "                            OLS Regression Results                            \n",
      "==============================================================================\n",
      "Dep. Variable:            actualYield   R-squared:                       0.082\n",
      "Model:                            OLS   Adj. R-squared:                  0.059\n",
      "Method:                 Least Squares   F-statistic:                     3.555\n",
      "Date:                Sat, 12 Mar 2022   Prob (F-statistic):             0.0667\n",
      "Time:                        17:30:04   Log-Likelihood:                -14.459\n",
      "No. Observations:                  42   AIC:                             32.92\n",
      "Df Residuals:                      40   BIC:                             36.39\n",
      "Df Model:                           1                                         \n",
      "Covariance Type:            nonrobust                                         \n",
      "==============================================================================\n",
      "                 coef    std err          t      P>|t|      [0.025      0.975]\n",
      "------------------------------------------------------------------------------\n",
      "Intercept      0.6678      1.478      0.452      0.654      -2.319       3.654\n",
      "yr5            1.7754      0.942      1.885      0.067      -0.128       3.679\n",
      "==============================================================================\n",
      "Omnibus:                        0.285   Durbin-Watson:                   2.289\n",
      "Prob(Omnibus):                  0.867   Jarque-Bera (JB):                0.057\n",
      "Skew:                          -0.090   Prob(JB):                        0.972\n",
      "Kurtosis:                       3.007   Cond. No.                         60.4\n",
      "==============================================================================\n",
      "\n",
      "Notes:\n",
      "[1] Standard Errors assume that the covariance matrix of the errors is correctly specified.\n"
     ]
    }
   ],
   "source": [
    "startYear = 2013\n",
    "#startYear = 2017\n",
    "\n",
    "endYear = 2017\n",
    "actual = pd.read_csv('/Users/delatorredm/OneDrive - The University of Auckland/Ch4_Climate_Impacts/iloilo_rice_data_cleaned_imputed_new.csv')\n",
    "actual = actual[(actual.param == 'yield') & (actual.ecosystem == 'rf')].reset_index(drop=True)\n",
    "actualFixed = actual.rename(columns={'muni':'ADM3_EN','year':'Date'}).drop(columns=['ecosystem'])\n",
    "actualFixed= actualFixed[(actualFixed.Date <= endYear) & (actualFixed.Date >= startYear)].groupby(['ADM3_EN','param']).mean().reset_index(drop=False)\n",
    "\n",
    "merged = pd.merge(actualFixed, ndvi_rf, left_on='ADM3_EN', right_on='ADM3_EN')\n",
    "\n",
    "\n",
    "df = merged.rename(columns={'value':'actualYield'})\n",
    "df = pd.DataFrame(df)\n",
    "\n",
    "formula = 'actualYield ~ yr5'\n",
    "results = smf.ols(formula = formula, \n",
    "                 missing='drop',\n",
    "                 data=df).fit()\n",
    "print(results.summary())\n",
    "#print(pd.DataFrame(results.params).round(decimals=4).transpose())"
   ]
  },
  {
   "cell_type": "markdown",
   "id": "3536b88b-2c80-4194-9457-319117d0c6cc",
   "metadata": {},
   "source": [
    "## ALL RICE"
   ]
  },
  {
   "cell_type": "code",
   "execution_count": 13,
   "id": "f8b6eb9c-404b-4837-bd4f-4ad61ff5529d",
   "metadata": {},
   "outputs": [
    {
     "name": "stdout",
     "output_type": "stream",
     "text": [
      "                            OLS Regression Results                            \n",
      "==============================================================================\n",
      "Dep. Variable:            actualYield   R-squared:                       0.014\n",
      "Model:                            OLS   Adj. R-squared:                 -0.010\n",
      "Method:                 Least Squares   F-statistic:                    0.5866\n",
      "Date:                Sat, 12 Mar 2022   Prob (F-statistic):              0.448\n",
      "Time:                        17:19:24   Log-Likelihood:                -32.264\n",
      "No. Observations:                  44   AIC:                             68.53\n",
      "Df Residuals:                      42   BIC:                             72.10\n",
      "Df Model:                           1                                         \n",
      "Covariance Type:            nonrobust                                         \n",
      "==============================================================================\n",
      "                 coef    std err          t      P>|t|      [0.025      0.975]\n",
      "------------------------------------------------------------------------------\n",
      "Intercept      1.7392      2.466      0.705      0.485      -3.238       6.716\n",
      "ndvi           1.1975      1.564      0.766      0.448      -1.958       4.353\n",
      "==============================================================================\n",
      "Omnibus:                        0.978   Durbin-Watson:                   2.038\n",
      "Prob(Omnibus):                  0.613   Jarque-Bera (JB):                1.021\n",
      "Skew:                           0.261   Prob(JB):                        0.600\n",
      "Kurtosis:                       2.467   Cond. No.                         70.1\n",
      "==============================================================================\n",
      "\n",
      "Notes:\n",
      "[1] Standard Errors assume that the covariance matrix of the errors is correctly specified.\n",
      "   Intercept    ndvi\n",
      "0     1.7392  1.1975\n"
     ]
    }
   ],
   "source": [
    "points = '/Users/delatorredm/Library/CloudStorage/OneDrive-TheUniversityofAuckland/Ch4_Climate_Impacts/geospatial_layers/out5yr/intersect_DS_5yr.shp'\n",
    "#points = '/Users/delatorredm/Library/CloudStorage/OneDrive-TheUniversityofAuckland/Ch4_Climate_Impacts/geospatial_layers/out2017/intersect_DS_2017.shp'\n",
    "\n",
    "points = gpd.read_file(points)\n",
    "\n",
    "startYear = 2013\n",
    "endYear = 2017\n",
    "actual = pd.read_csv('/Users/delatorredm/OneDrive - The University of Auckland/Ch4_Climate_Impacts/iloilo_rice_data_cleaned_imputed_new.csv')\n",
    "\n",
    "irrlist = [\n",
    "'Anilao',\n",
    "'Banate',\n",
    "'Barotac Nuevo',\n",
    "'Barotac Viejo',\n",
    "'Dingle',\n",
    "'Dumangas',\n",
    "'Iloilo City',\n",
    "'Janiuay',\n",
    "'Leganes',\n",
    "'Mina',\n",
    "'New Lucena',\n",
    "'Oton',\n",
    "'Pavia',\n",
    "'Pototan',\n",
    "'San Miguel',\n",
    "'Santa Barbara',\n",
    "'Tigbauan',\n",
    "'Zarraga',\n",
    "]\n",
    "\n",
    "list1 = actual[(actual.param == 'yield') & (actual.ecosystem == 'rf')].reset_index(drop=True)\n",
    "list1 = list1.loc[~list1['muni'].isin(irrlist)]\n",
    "\n",
    "list2 = actual[(actual.param == 'yield') & (actual.ecosystem == 'all')].reset_index(drop=True)\n",
    "list2 = list2.loc[list2['muni'].isin(irrlist)]\n",
    "actual = pd.concat([list1, list2])\n",
    "\n",
    "actualFixed = actual.rename(columns={'muni':'ADM3_EN','year':'Date'}).drop(columns=['ecosystem']).reset_index(drop=True)\n",
    "actualFixed= actualFixed[(actualFixed.Date <= endYear) & (actualFixed.Date >= startYear)].groupby(['ADM3_EN','param']).mean().reset_index(drop=False)\n",
    "actualFixed\n",
    "\n",
    "points2 = points.groupby(['ADM3_EN']).mean().reset_index(drop=False)\n",
    "\n",
    "merged = pd.merge(actualFixed, points2, left_on='ADM3_EN', right_on='ADM3_EN')\n",
    "df = merged.rename(columns={'value':'actualYield','ch3_slope':'slope','ch3_elevat':'elevation'})\n",
    "df = pd.DataFrame(df)\n",
    "\n",
    "\n",
    "#formula = 'actualYield ~ ndvi + LST_Night_1km + pcp + et + pet + slope + elevation'\n",
    "formula = 'actualYield ~ ndvi'\n",
    "results = smf.ols(formula = formula, \n",
    "                 missing='drop',\n",
    "                 data=df).fit()\n",
    "print(results.summary())\n",
    "print(pd.DataFrame(results.params).round(decimals=4).transpose())\n",
    "\n"
   ]
  },
  {
   "cell_type": "code",
   "execution_count": 16,
   "id": "806c4425-b9a9-4672-accc-1f50c8660d76",
   "metadata": {},
   "outputs": [
    {
     "data": {
      "image/png": "[encoded data removed]",
      "text/plain": [
       "<Figure size 360x360 with 1 Axes>"
      ]
     },
     "metadata": {
      "needs_background": "light"
     },
     "output_type": "display_data"
    }
   ],
   "source": [
    "fig, ax = plt.subplots(figsize=(5,5))\n",
    "fig = sns.scatterplot(x=\"actualYield\", y=\"ndvi\", data=df)"
   ]
  },
  {
   "cell_type": "code",
   "execution_count": null,
   "id": "92f3c406-be6e-40d3-ab19-a0ac7f98f5e1",
   "metadata": {},
   "outputs": [],
   "source": []
  }
 ],
 "metadata": {
  "kernelspec": {
   "display_name": "Python 3 (ipykernel)",
   "language": "python",
   "name": "python3"
  },
  "language_info": {
   "codemirror_mode": {
    "name": "ipython",
    "version": 3
   },
   "file_extension": ".py",
   "mimetype": "text/x-python",
   "name": "python",
   "nbconvert_exporter": "python",
   "pygments_lexer": "ipython3",
   "version": "3.8.12"
  }
 },
 "nbformat": 4,
 "nbformat_minor": 5
}
